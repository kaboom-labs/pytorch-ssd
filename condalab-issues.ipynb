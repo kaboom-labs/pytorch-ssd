{
 "cells": [
  {
   "cell_type": "markdown",
   "id": "5ee9b2c5-a477-4da2-b461-cf82a319fb27",
   "metadata": {},
   "source": [
    "# Fixing codalab.org upload issues"
   ]
  },
  {
   "cell_type": "markdown",
   "id": "38c48efb-14f8-48cb-a545-baebab72add1",
   "metadata": {},
   "source": [
    "For example,\n",
    "\n",
    "`Traceback (most recent call last):\n",
    "  File \"/tmp/codalab/tmp7fPvO9/run/program/run.py\", line 111, in \n",
    "    res = cut_res(res, maxDet=100)\n",
    "  File \"/tmp/codalab/tmp7fPvO9/run/program/run.py\", line 75, in cut_res\n",
    "    r_img = res[start_end[image_id][0]:start_end[image_id][1]]\n",
    "KeyError: 581864`\n",
    "\n",
    "In this case, someone in the forum suggested removing the entry with that key.\n",
    "\n",
    "So this is the notebook that does that."
   ]
  },
  {
   "cell_type": "code",
   "execution_count": 1,
   "id": "a9ef2013-b5a1-43fe-ae3c-5f7127d38c6e",
   "metadata": {},
   "outputs": [],
   "source": [
    "import json\n",
    "import copy\n",
    "import os"
   ]
  },
  {
   "cell_type": "code",
   "execution_count": 2,
   "id": "cf6538c1-d6bf-4dde-8d71-012393ca3fac",
   "metadata": {},
   "outputs": [],
   "source": [
    "problem_keys = [581897, 581864]"
   ]
  },
  {
   "cell_type": "code",
   "execution_count": 3,
   "id": "85cdebe3-91b1-4df7-b925-85c72436c79f",
   "metadata": {},
   "outputs": [],
   "source": [
    "path_to_json = '/home/jasonsohn/Repos/Kaboom-Labs/pytorch-ssd/coco-test-results/detections_test-dev2017_mobilenetv2-ssd-lite_results.json'"
   ]
  },
  {
   "cell_type": "code",
   "execution_count": 4,
   "id": "69879b2a-6ab3-4ecd-b997-320e1717b660",
   "metadata": {},
   "outputs": [],
   "source": [
    "with open(path_to_json,'r') as j:\n",
    "    coco_result = json.load(j)"
   ]
  },
  {
   "cell_type": "code",
   "execution_count": 5,
   "id": "cd2ace0b-35a4-4448-9d7e-a71bf6d4ad16",
   "metadata": {},
   "outputs": [],
   "source": [
    "edited_coco_result = coco_result.copy()"
   ]
  },
  {
   "cell_type": "code",
   "execution_count": 6,
   "id": "75a5db4a-eb72-4db0-b9a5-01f66343651f",
   "metadata": {},
   "outputs": [],
   "source": [
    "for problem_key in problem_keys:\n",
    "    for result in edited_coco_result:\n",
    "        if result['image_id'] == problem_key:\n",
    "            edited_coco_result.remove(result)\n",
    "            print(f\"{result} removed\")"
   ]
  },
  {
   "cell_type": "code",
   "execution_count": 7,
   "id": "e722a844-4e3c-4fd0-8898-0bb055006c3d",
   "metadata": {},
   "outputs": [],
   "source": [
    "# check if any of the keys are still in:\n",
    "for result in edited_coco_result:\n",
    "    if result['image_id'] in problem_keys:\n",
    "        print(\"PROBLEM KEY STILL IN coco_result\")"
   ]
  },
  {
   "cell_type": "code",
   "execution_count": 8,
   "id": "db035432-93ff-462e-abde-a32b46ece1e6",
   "metadata": {},
   "outputs": [
    {
     "name": "stdout",
     "output_type": "stream",
     "text": [
      "0 entries removed\n"
     ]
    }
   ],
   "source": [
    "print(f\"{len(coco_result)-len(edited_coco_result)} entries removed\")"
   ]
  },
  {
   "cell_type": "code",
   "execution_count": 9,
   "id": "d5902f3c-ad08-477c-85cc-cafc66ad0853",
   "metadata": {},
   "outputs": [],
   "source": [
    "with open(path_to_json+'UPDATED', 'w') as j:\n",
    "    json.dump(edited_coco_result, j)"
   ]
  },
  {
   "cell_type": "code",
   "execution_count": 10,
   "id": "78790225-f535-4bf3-96d8-72e43750b3a6",
   "metadata": {},
   "outputs": [
    {
     "data": {
      "text/plain": [
       "0"
      ]
     },
     "execution_count": 10,
     "metadata": {},
     "output_type": "execute_result"
    }
   ],
   "source": [
    "# zip files\n",
    "os.system(f\"zip {path_to_json[:-5]}.zip-UPDATED {path_to_json}\")"
   ]
  },
  {
   "cell_type": "markdown",
   "id": "7eb58a9a-bd45-4a49-9cab-c7491905a35d",
   "metadata": {},
   "source": [
    "## Make sure to erase '-UPDATED' from output files"
   ]
  },
  {
   "cell_type": "code",
   "execution_count": 13,
   "id": "f66498e7-7e93-4d20-afca-4543aef0f8e8",
   "metadata": {},
   "outputs": [
    {
     "data": {
      "text/plain": [
       "{'image_id': 466319,\n",
       " 'category_id': 1,\n",
       " 'bbox': [316.47, 274.8, 254.14, 201.45],\n",
       " 'score': 0.457}"
      ]
     },
     "execution_count": 13,
     "metadata": {},
     "output_type": "execute_result"
    }
   ],
   "source": [
    "coco_result[0]"
   ]
  },
  {
   "cell_type": "code",
   "execution_count": null,
   "id": "2e312c55-9a85-45dc-849a-1a60bc4b0608",
   "metadata": {},
   "outputs": [],
   "source": []
  }
 ],
 "metadata": {
  "kernelspec": {
   "display_name": "Python 3",
   "language": "python",
   "name": "python3"
  },
  "language_info": {
   "codemirror_mode": {
    "name": "ipython",
    "version": 3
   },
   "file_extension": ".py",
   "mimetype": "text/x-python",
   "name": "python",
   "nbconvert_exporter": "python",
   "pygments_lexer": "ipython3",
   "version": "3.8.5"
  }
 },
 "nbformat": 4,
 "nbformat_minor": 5
}
