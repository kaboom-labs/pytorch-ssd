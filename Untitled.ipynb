{
 "cells": [
  {
   "cell_type": "code",
   "execution_count": 1,
   "id": "6ac93941-2e5d-44d3-8eb3-60946fb7c2d7",
   "metadata": {},
   "outputs": [],
   "source": [
    "import sys\n",
    "import os\n",
    "import time\n",
    "import json\n",
    "import copy\n",
    "import shutil\n",
    "import logging"
   ]
  },
  {
   "cell_type": "code",
   "execution_count": 2,
   "id": "77cac33b-fc20-466e-b148-c51a43c850e4",
   "metadata": {},
   "outputs": [],
   "source": [
    "def fix_category_id(coco_dict: dict):\n",
    "    coco_dict = copy.deepcopy(coco_dict)\n",
    "    \n",
    "    coco_categories_dict = coco_dict['categories']\n",
    "    coco_annotations_dict = coco_dict['annotations']\n",
    "    \n",
    "    # build dictionary that correlates 91-class annotations to one-indexed 80-class annotations\n",
    "    cat_convert = {}\n",
    "    \n",
    "    # exit if dictionary appears to have been modified already\n",
    "    if coco_categories_dict[-1]['id'] != 90:\n",
    "        logging.error(\"Idempotency Warning: It looks like you have already run this script. Do not run this script more than once.\")\n",
    "        sys.exit(1)\n",
    "        \n",
    "    i = 1\n",
    "    for cat in coco_categories_dict:\n",
    "\n",
    "        cat_convert.update({cat['id']: i}) # create simpler dictionary for later use\n",
    "        cat.update({'id':i}) # rename the dictionary itself too\n",
    "        i += 1\n",
    "    \n",
    "    # change the 'category_id' on every single bbox\n",
    "    for annotation in coco_annotations_dict:\n",
    "        annotation.update({'category_id' : cat_convert[annotation['category_id']]})\n",
    "    \n",
    "    return coco_dict"
   ]
  },
  {
   "cell_type": "code",
   "execution_count": 3,
   "id": "5daaa695-f5a7-465d-8f8e-9ca8d23cbfc0",
   "metadata": {},
   "outputs": [],
   "source": [
    "def move_empty_images(coco_dict: dict, coco_root: str, dataset_type: str):\n",
    "    coco_dict = copy.deepcopy(coco_dict)\n",
    "    \n",
    "    all_images = set()\n",
    "    for image in coco_dict['images']:\n",
    "        all_images.add(image['id'])\n",
    "    logging.info(f\"Total number of images: {len(all_images)}\")\n",
    "    \n",
    "    annotated_images = set()\n",
    "    for annotation in coco_dict['annotations']:\n",
    "        annotated_images.add(annotation['image_id'])\n",
    "    logging.info(f\"Images with at least one annotation: {len(annotated_images)}\")\n",
    "            \n",
    "    no_annotation_images = all_images - annotated_images\n",
    "    logging.info(f\"Images without any annotations: {len(no_annotation_images)}\")\n",
    "    \n",
    "    # build image_id to filename dictionary\n",
    "    id_to_filename = {}\n",
    "    for image in coco_dict['images']:\n",
    "        id_to_filename.update({image['id']:image['file_name']})\n",
    "    \n",
    "    # move files to new directory\n",
    "    rejects_dir = os.path.join(coco_root, 'no_annotations_'+dataset_type+'2017')\n",
    "    try: \n",
    "        os.mkdir(rejects_dir)\n",
    "    except OSError:\n",
    "        logging.error(\"Idempotency Warning: It appears you have already run this script. Do not run this script more than once.\")\n",
    "        sys.exit(1)\n",
    "        \n",
    "    counter = 0\n",
    "    for image_id in no_annotation_images:\n",
    "        image_filename = id_to_filename[image_id]\n",
    "        from_image_path = os.path.join(coco_root, f\"{dataset_type}2017\", image_filename)\n",
    "        shutil.move(from_image_path, rejects_dir)\n",
    "        counter += 1\n",
    "    logging.warning(f\"{counter} images have been moved out of {from_image_path}.\")\n"
   ]
  },
  {
   "cell_type": "code",
   "execution_count": 4,
   "id": "ad484120-4c09-471b-b3dc-cbeca6c44eac",
   "metadata": {},
   "outputs": [],
   "source": [
    "coco_root = 'coco-data'\n",
    "dataset_types = ['train', 'val']"
   ]
  },
  {
   "cell_type": "code",
   "execution_count": 22,
   "id": "0e3e1bce-503e-4e57-a69e-7caaecffad98",
   "metadata": {},
   "outputs": [],
   "source": [
    "dataset_type=dataset_types[1]"
   ]
  },
  {
   "cell_type": "code",
   "execution_count": 23,
   "id": "0352fb87-065b-4fa5-abdd-1077b69aad4a",
   "metadata": {
    "tags": []
   },
   "outputs": [],
   "source": [
    "path = os.path.join(coco_root, 'annotations', f'instances_{dataset_type}2017.json')\n",
    "with open(path, 'r') as j:\n",
    "    json_file = json.loads(j.read())\n",
    "\n"
   ]
  },
  {
   "cell_type": "code",
   "execution_count": 16,
   "id": "b733fda0-f4d5-4c9d-84fc-9b7c6b1a2ffc",
   "metadata": {},
   "outputs": [
    {
     "data": {
      "text/plain": [
       "dict_keys(['info', 'licenses', 'images', 'annotations', 'categories'])"
      ]
     },
     "execution_count": 16,
     "metadata": {},
     "output_type": "execute_result"
    }
   ],
   "source": [
    "json_file.keys()"
   ]
  },
  {
   "cell_type": "code",
   "execution_count": 24,
   "id": "5a427ca4-f118-4365-b2a4-84d9ba19232a",
   "metadata": {},
   "outputs": [
    {
     "data": {
      "text/plain": [
       "80"
      ]
     },
     "execution_count": 24,
     "metadata": {},
     "output_type": "execute_result"
    }
   ],
   "source": [
    "json_file['categories'][-1]['id']"
   ]
  },
  {
   "cell_type": "code",
   "execution_count": 18,
   "id": "5d5d1f8f-95a6-44c5-b14c-7e76e5dda47a",
   "metadata": {},
   "outputs": [],
   "source": [
    "coco_dict = fix_category_id(json_file)"
   ]
  },
  {
   "cell_type": "code",
   "execution_count": 19,
   "id": "73b2ec44-71c6-4750-8f60-332292f0b365",
   "metadata": {},
   "outputs": [
    {
     "name": "stderr",
     "output_type": "stream",
     "text": [
      "WARNING:root:48 images have been moved out of coco-data/val2017/000000173183.jpg.\n"
     ]
    }
   ],
   "source": [
    "move_empty_images(coco_dict, coco_root, dataset_type)"
   ]
  },
  {
   "cell_type": "code",
   "execution_count": 20,
   "id": "da72006b-88d6-41fd-af43-40c01e8c9046",
   "metadata": {},
   "outputs": [
    {
     "data": {
      "text/plain": [
       "'coco-data/annotations/instances_val2017.json_old'"
      ]
     },
     "execution_count": 20,
     "metadata": {},
     "output_type": "execute_result"
    }
   ],
   "source": [
    "shutil.move(path, path+'_old')"
   ]
  },
  {
   "cell_type": "code",
   "execution_count": 21,
   "id": "494e74e6-5715-49b3-9e62-79694804a0c1",
   "metadata": {},
   "outputs": [],
   "source": [
    "with open(path, 'w') as j:\n",
    "    json.dump(coco_dict, j)"
   ]
  },
  {
   "cell_type": "code",
   "execution_count": 13,
   "id": "417ea5d8-6c26-4ce8-bf28-2242b8bd0a23",
   "metadata": {},
   "outputs": [],
   "source": [
    "#print(\"Fixing COCO label indexes...\")\n",
    "#coco_dict = fix_category_id(json_file)\n",
    "#print(\"Moving images with no annotations to new folder...\")\n",
    "# WARNING: moving images causes problem.\n",
    "#move_empty_images(coco_dict, coco_root, dataset_type)\n",
    "\n",
    "#rename old json\n",
    "#shutil.move(path, path+'_old')\n"
   ]
  },
  {
   "cell_type": "code",
   "execution_count": null,
   "id": "7b544d38-0736-4b87-a96d-d5e08e218078",
   "metadata": {},
   "outputs": [],
   "source": []
  },
  {
   "cell_type": "code",
   "execution_count": null,
   "id": "2d8ea866-e6e7-4770-98f8-e1ede7876591",
   "metadata": {},
   "outputs": [],
   "source": []
  }
 ],
 "metadata": {
  "kernelspec": {
   "display_name": "Python 3",
   "language": "python",
   "name": "python3"
  },
  "language_info": {
   "codemirror_mode": {
    "name": "ipython",
    "version": 3
   },
   "file_extension": ".py",
   "mimetype": "text/x-python",
   "name": "python",
   "nbconvert_exporter": "python",
   "pygments_lexer": "ipython3",
   "version": "3.8.5"
  }
 },
 "nbformat": 4,
 "nbformat_minor": 5
}
