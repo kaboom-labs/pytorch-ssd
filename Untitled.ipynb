{
 "cells": [
  {
   "cell_type": "code",
   "execution_count": 9,
   "id": "b05bff0e-87d7-4c64-93bf-0b089eb97b09",
   "metadata": {},
   "outputs": [],
   "source": [
    "from pathlib import Path"
   ]
  },
  {
   "cell_type": "code",
   "execution_count": 10,
   "id": "7cef4844-ce52-4719-a747-0aeeb387e9bb",
   "metadata": {},
   "outputs": [],
   "source": [
    "p = Path(\"runs\")"
   ]
  },
  {
   "cell_type": "code",
   "execution_count": 21,
   "id": "88aaecc7-2c2d-4952-9531-2626bcfa7988",
   "metadata": {},
   "outputs": [
    {
     "ename": "SyntaxError",
     "evalue": "invalid syntax (<ipython-input-21-2cbf9028aa04>, line 1)",
     "output_type": "error",
     "traceback": [
      "\u001b[0;36m  File \u001b[0;32m\"<ipython-input-21-2cbf9028aa04>\"\u001b[0;36m, line \u001b[0;32m1\u001b[0m\n\u001b[0;31m    p '1'\u001b[0m\n\u001b[0m      ^\u001b[0m\n\u001b[0;31mSyntaxError\u001b[0m\u001b[0;31m:\u001b[0m invalid syntax\n"
     ]
    }
   ],
   "source": [
    "p '1'"
   ]
  },
  {
   "cell_type": "code",
   "execution_count": 12,
   "id": "0ddce046-f8c0-4435-b9b7-8aaa3a7e80df",
   "metadata": {},
   "outputs": [],
   "source": [
    "p_gen = p.iterdir()"
   ]
  },
  {
   "cell_type": "code",
   "execution_count": 13,
   "id": "e82d631c-f2b1-44a8-8574-5f2907b3e51c",
   "metadata": {},
   "outputs": [
    {
     "data": {
      "text/plain": [
       "PosixPath('runs/Jun21_01-14-58_shoebox')"
      ]
     },
     "execution_count": 13,
     "metadata": {},
     "output_type": "execute_result"
    }
   ],
   "source": [
    "next(p_gen)"
   ]
  },
  {
   "cell_type": "code",
   "execution_count": 16,
   "id": "abace22a-a9db-4671-bca8-06267f0122d4",
   "metadata": {},
   "outputs": [],
   "source": [
    "b = next(p_gen)"
   ]
  },
  {
   "cell_type": "code",
   "execution_count": 17,
   "id": "08b79f2f-df08-41b8-bb20-7beb0c3e4a4f",
   "metadata": {},
   "outputs": [
    {
     "data": {
      "text/plain": [
       "PosixPath('runs/Jul02_21-34-48_shoebox')"
      ]
     },
     "execution_count": 17,
     "metadata": {},
     "output_type": "execute_result"
    }
   ],
   "source": [
    "b"
   ]
  },
  {
   "cell_type": "code",
   "execution_count": 19,
   "id": "64abe463-9d6c-4470-a262-5f0b994cc4f3",
   "metadata": {},
   "outputs": [
    {
     "data": {
      "text/plain": [
       "PosixPath('runs/Jul02_21-34-48_shoebox/runs')"
      ]
     },
     "execution_count": 19,
     "metadata": {},
     "output_type": "execute_result"
    }
   ],
   "source": [
    "b/\"runs\""
   ]
  },
  {
   "cell_type": "code",
   "execution_count": 6,
   "id": "870b31fc-a01a-4145-9fb2-8f6a9da60244",
   "metadata": {},
   "outputs": [],
   "source": [
    "from vision.datasets.coco_dataset import COCODataset\n",
    "from vision.ssd.data_preprocessing import TrainAugmentation, TestTransform\n",
    "from vision.ssd.ssd import MatchPrior"
   ]
  },
  {
   "cell_type": "code",
   "execution_count": 7,
   "id": "7020fe6e-0460-4c99-90f7-024ceba1205c",
   "metadata": {},
   "outputs": [],
   "source": [
    "dataset_path = \"data/coco-data\"\n",
    "train_transform= TrainAugmentation(300)\n",
    "viz_inputs=True"
   ]
  },
  {
   "cell_type": "code",
   "execution_count": null,
   "id": "f3c602e3-3437-45ec-875c-e4a6e882df85",
   "metadata": {},
   "outputs": [],
   "source": []
  }
 ],
 "metadata": {
  "kernelspec": {
   "display_name": "expenv",
   "language": "python",
   "name": "expenv"
  },
  "language_info": {
   "codemirror_mode": {
    "name": "ipython",
    "version": 3
   },
   "file_extension": ".py",
   "mimetype": "text/x-python",
   "name": "python",
   "nbconvert_exporter": "python",
   "pygments_lexer": "ipython3",
   "version": "3.8.10"
  }
 },
 "nbformat": 4,
 "nbformat_minor": 5
}
